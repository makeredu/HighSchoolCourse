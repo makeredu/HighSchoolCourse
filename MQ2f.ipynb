{
  "cells": [
    {
      "cell_type": "markdown",
      "metadata": {
        "id": "view-in-github",
        "colab_type": "text"
      },
      "source": [
        "<a href=\"https://colab.research.google.com/github/makeredu/HighSchoolCourse/blob/main/MQ2f.ipynb\" target=\"_parent\"><img src=\"https://colab.research.google.com/assets/colab-badge.svg\" alt=\"Open In Colab\"/></a>"
      ]
    },
    {
      "cell_type": "markdown",
      "metadata": {
        "id": "0rDDNpGH7Knd"
      },
      "source": [
        "# 限時實作題2. 監督式學習：寶可夢的分類\n",
        "## 2-0. 資料集讀取\n",
        " - 己有程式碼\n",
        "\n",
        "## 2-1. 請完成基本/必要的資料內容和品質分析報告\n",
        "\n",
        " - 請自行完成[程式碼]+[分析報告]\n",
        "\n",
        "## **2-2. 分類與迴歸決策樹 (C&RT)**\n",
        " - 己有程式碼，請說明其意義\n",
        "\n",
        "## **2-3. K最近鄰 (KNN)**\n"
      ]
    },
    {
      "cell_type": "markdown",
      "source": [
        "##**[2-0] 先執行本區段程式把所附的寶可夢資料集(Pokemon_894_12.csv)載入Colab程式執行環境中**"
      ],
      "metadata": {
        "id": "DoBxBNKR9ftg"
      }
    },
    {
      "cell_type": "code",
      "source": [
        "from google.colab import files\n",
        "uploaded = files.upload()\n",
        "\n",
        "import pandas as pd\n",
        "import io\n",
        "\n",
        "df = pd.read_csv(io.BytesIO(uploaded['Pokemon_894_12o.csv']))\n",
        "print(df)"
      ],
      "metadata": {
        "id": "OUnHwWNa8xgP"
      },
      "execution_count": null,
      "outputs": []
    },
    {
      "cell_type": "markdown",
      "source": [
        "## **[2-1] 請自行完成基本/必要的資料內容和品質分析報告**"
      ],
      "metadata": {
        "id": "SXfqg5fFCl9j"
      }
    },
    {
      "cell_type": "code",
      "source": [
        "# 請於此處填入執行資料分析的程式碼"
      ],
      "metadata": {
        "id": "5FZdzANMDpzB"
      },
      "execution_count": null,
      "outputs": []
    },
    {
      "cell_type": "markdown",
      "source": [
        "**[A] 請在此說明你分析後的結果**\n"
      ],
      "metadata": {
        "id": "rbBdobDpIbME"
      }
    },
    {
      "cell_type": "markdown",
      "source": [],
      "metadata": {
        "id": "E_R-2wlCJzao"
      }
    },
    {
      "cell_type": "markdown",
      "metadata": {
        "id": "b-G0CIvf7Kni"
      },
      "source": [
        "<a id='sec2_2'></a>\n",
        "## **[2-2] 決策樹分類與迴歸決策樹**"
      ]
    },
    {
      "cell_type": "markdown",
      "source": [
        "以下是以Scikit Learn提供之C&RT演算法所產生的分類決策樹，演算法的終止條件是由決策樹的層數來控制。請執行並做必要調整來決定你的分類決策樹(答案)。也非常鼓勵你改寫程式內容！"
      ],
      "metadata": {
        "id": "dH3Kz0P3Jxla"
      }
    },
    {
      "cell_type": "code",
      "execution_count": null,
      "metadata": {
        "id": "cDvaxhD_7Knj"
      },
      "outputs": [],
      "source": [
        "# 載入C&RT套件和資料集分割套件\n",
        "from sklearn.model_selection import train_test_split\n",
        "from sklearn.tree import DecisionTreeClassifier\n",
        "\n",
        "# 設定寶可夢 Type2欄位的「有值」或「無值」為分類的兩種類別(1, 0) 並以HP~Speed等6個欄位為特徵\n",
        "df['hasType2'] = df['Type2'].notnull().astype(int) \n",
        "X, y = df.loc[:, 'HP':'Speed'], df['hasType2']\n",
        "X_train, X_test, y_train, y_test = train_test_split(X, y, random_state=0) #分割資料集\n",
        "\n",
        "# 建立C&RT決策樹分類器\n",
        "clf = DecisionTreeClassifier(max_depth=4) # max_depth為決策樹的層數\n",
        "clf.fit(X_train, y_train)\n",
        "\n",
        "from sklearn.metrics import classification_report\n",
        "# 產生分類效能評估報告\n",
        "y_pred = clf.predict(X_test)\n",
        "print(classification_report(y_test, y_pred))"
      ]
    },
    {
      "cell_type": "markdown",
      "source": [
        "以上決策樹表的分類表現如何請說明？\n",
        "以上決策樹的層數被控制在4層，請嘗試將決策樹的最大層數改為「3層」和「5層」，並比較三者的分類表現。"
      ],
      "metadata": {
        "id": "VW3XBc-7KqL1"
      }
    },
    {
      "cell_type": "markdown",
      "source": [
        "[***你的回答***] *請把你的回答寫在這個文字區塊*\n"
      ],
      "metadata": {
        "id": "_mwFVnoTMZpG"
      }
    },
    {
      "cell_type": "code",
      "execution_count": null,
      "metadata": {
        "id": "LgVs5kOw7Knk"
      },
      "outputs": [],
      "source": [
        "# 畫出你的決策樹(產生圖檔)\n",
        "import matplotlib.pyplot as plt\n",
        "plt.style.use('classic')\n",
        "from sklearn.tree import plot_tree\n",
        "\n",
        "plt.figure(dpi=100)\n",
        "plot_tree(clf, filled=True);"
      ]
    },
    {
      "cell_type": "markdown",
      "source": [
        "請在本文字區塊說明你的決策樹(可產生有怎樣的決策規則?)"
      ],
      "metadata": {
        "id": "nNof7ReENEYl"
      }
    },
    {
      "cell_type": "markdown",
      "metadata": {
        "id": "NBKGfYRM7Knr"
      },
      "source": [
        "## **[2-3] K最近鄰 (KNN)**"
      ]
    },
    {
      "cell_type": "markdown",
      "source": [
        "以下是以Scikit Learn提供之KNN演算法的簡要設定所產生的分類器請做必要調整(也非常鼓勵你改寫程式內容+精進分類效果)，並執行你的KNN分類器。"
      ],
      "metadata": {
        "id": "kOU7CsvWNvX-"
      }
    },
    {
      "cell_type": "code",
      "execution_count": null,
      "metadata": {
        "id": "ZyCH8I0m7Knr"
      },
      "outputs": [],
      "source": [
        "from sklearn.neighbors import NearestNeighbors\n",
        "\n",
        "# 特徵標準化\n",
        "scale = StandardScaler().fit(X_train)\n",
        "X_train_std = scale.transform(X_train)\n",
        "# 建立最近鄰模型\n",
        "neighbors = NearestNeighbors(n_neighbors=3).fit(X_train_std)\n",
        "\n",
        "# 未知寶可夢的屬性\n",
        "new_poke = [[120, 80, 80, 100, 150, 70]]\n"
      ]
    },
    {
      "cell_type": "markdown",
      "source": [
        "請將「未知寶可夢的屬性」(new_poke)的輸入方法改為手動(自行輸入6項能力值)"
      ],
      "metadata": {
        "id": "NsHOTqRTPXCV"
      }
    },
    {
      "cell_type": "code",
      "execution_count": null,
      "metadata": {
        "id": "EyB6RjI67Knr"
      },
      "outputs": [],
      "source": [
        "# 建立 KNN 分類器，預設 k=5\n",
        "knn = KNeighborsClassifier(n_jobs=-1)\n",
        "knn.fit(X_train_std, y_train)\n",
        "# 輸出預測結果\n",
        "print(knn.predict(new_poke_std))\n",
        "# 輸出預測結果的機率\n",
        "print(knn.predict_proba(new_poke_std))"
      ]
    },
    {
      "cell_type": "markdown",
      "source": [
        "請說明以上KNN分類器的執行過程為何？ 以上分類器的k值設定為預設值5，請嘗試將k值改為「6層」和「7層」，並比較三者分類結果的差異。"
      ],
      "metadata": {
        "id": "-xtavr2ePC1m"
      }
    },
    {
      "cell_type": "markdown",
      "source": [
        "[***你的回答***] *請把你的回答寫在這個文字區塊*"
      ],
      "metadata": {
        "id": "0IV-9fm8RdZv"
      }
    },
    {
      "cell_type": "code",
      "execution_count": null,
      "metadata": {
        "id": "UTzMhEY67Kns"
      },
      "outputs": [],
      "source": []
    }
  ],
  "metadata": {
    "kernelspec": {
      "display_name": "Python 3",
      "language": "python",
      "name": "python3"
    },
    "language_info": {
      "codemirror_mode": {
        "name": "ipython",
        "version": 3
      },
      "file_extension": ".py",
      "mimetype": "text/x-python",
      "name": "python",
      "nbconvert_exporter": "python",
      "pygments_lexer": "ipython3",
      "version": "3.7.6"
    },
    "colab": {
      "provenance": [],
      "include_colab_link": true
    }
  },
  "nbformat": 4,
  "nbformat_minor": 0
}