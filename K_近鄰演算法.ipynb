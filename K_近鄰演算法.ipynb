{
  "cells": [
    {
      "cell_type": "markdown",
      "metadata": {
        "id": "view-in-github",
        "colab_type": "text"
      },
      "source": [
        "<a href=\"https://colab.research.google.com/github/makeredu/HighSchoolCourse/blob/main/K_%E8%BF%91%E9%84%B0%E6%BC%94%E7%AE%97%E6%B3%95.ipynb\" target=\"_parent\"><img src=\"https://colab.research.google.com/assets/colab-badge.svg\" alt=\"Open In Colab\"/></a>"
      ]
    },
    {
      "cell_type": "markdown",
      "metadata": {
        "id": "0rDDNpGH7Knd"
      },
      "source": [
        "# 限時實作題2. 監督式學習：寶可夢的分類\n",
        "## 2-0. 資料集讀取\n",
        " - 己有程式碼\n",
        "\n",
        "## 2-1. 請完成基本/必要的資料內容和品質分析報告\n",
        "\n",
        " - 請自行完成[程式碼]+[分析報告]\n",
        "\n",
        "## **2-2. 分類與迴歸決策樹 (C&RT)**\n",
        " - 己有程式碼，請說明其意義\n",
        "\n",
        "## **2-3. K最近鄰 (KNN)**\n"
      ]
    },
    {
      "cell_type": "markdown",
      "source": [
        "##**[2-0] 先執行本區段程式把所附的寶可夢資料集(Pokemon_894_12.csv)載入Colab程式執行環境中**"
      ],
      "metadata": {
        "id": "DoBxBNKR9ftg"
      }
    },
    {
      "cell_type": "code",
      "source": [
        "from google.colab import files\n",
        "uploaded = files.upload()\n",
        "\n",
        "import pandas as pd\n",
        "import io\n",
        "\n",
        "df = pd.read_csv(io.BytesIO(uploaded['Pokemon_894_12o.csv']))\n",
        "print(df)"
      ],
      "metadata": {
        "id": "OUnHwWNa8xgP",
        "colab": {
          "base_uri": "https://localhost:8080/",
          "height": 543
        },
        "outputId": "1fbc195e-c495-40c5-8d52-f3744110fa7a"
      },
      "execution_count": 1,
      "outputs": [
        {
          "output_type": "display_data",
          "data": {
            "text/plain": [
              "<IPython.core.display.HTML object>"
            ],
            "text/html": [
              "\n",
              "     <input type=\"file\" id=\"files-0ac49af9-a0ab-46ec-b38e-b6aa9018b37c\" name=\"files[]\" multiple disabled\n",
              "        style=\"border:none\" />\n",
              "     <output id=\"result-0ac49af9-a0ab-46ec-b38e-b6aa9018b37c\">\n",
              "      Upload widget is only available when the cell has been executed in the\n",
              "      current browser session. Please rerun this cell to enable.\n",
              "      </output>\n",
              "      <script>// Copyright 2017 Google LLC\n",
              "//\n",
              "// Licensed under the Apache License, Version 2.0 (the \"License\");\n",
              "// you may not use this file except in compliance with the License.\n",
              "// You may obtain a copy of the License at\n",
              "//\n",
              "//      http://www.apache.org/licenses/LICENSE-2.0\n",
              "//\n",
              "// Unless required by applicable law or agreed to in writing, software\n",
              "// distributed under the License is distributed on an \"AS IS\" BASIS,\n",
              "// WITHOUT WARRANTIES OR CONDITIONS OF ANY KIND, either express or implied.\n",
              "// See the License for the specific language governing permissions and\n",
              "// limitations under the License.\n",
              "\n",
              "/**\n",
              " * @fileoverview Helpers for google.colab Python module.\n",
              " */\n",
              "(function(scope) {\n",
              "function span(text, styleAttributes = {}) {\n",
              "  const element = document.createElement('span');\n",
              "  element.textContent = text;\n",
              "  for (const key of Object.keys(styleAttributes)) {\n",
              "    element.style[key] = styleAttributes[key];\n",
              "  }\n",
              "  return element;\n",
              "}\n",
              "\n",
              "// Max number of bytes which will be uploaded at a time.\n",
              "const MAX_PAYLOAD_SIZE = 100 * 1024;\n",
              "\n",
              "function _uploadFiles(inputId, outputId) {\n",
              "  const steps = uploadFilesStep(inputId, outputId);\n",
              "  const outputElement = document.getElementById(outputId);\n",
              "  // Cache steps on the outputElement to make it available for the next call\n",
              "  // to uploadFilesContinue from Python.\n",
              "  outputElement.steps = steps;\n",
              "\n",
              "  return _uploadFilesContinue(outputId);\n",
              "}\n",
              "\n",
              "// This is roughly an async generator (not supported in the browser yet),\n",
              "// where there are multiple asynchronous steps and the Python side is going\n",
              "// to poll for completion of each step.\n",
              "// This uses a Promise to block the python side on completion of each step,\n",
              "// then passes the result of the previous step as the input to the next step.\n",
              "function _uploadFilesContinue(outputId) {\n",
              "  const outputElement = document.getElementById(outputId);\n",
              "  const steps = outputElement.steps;\n",
              "\n",
              "  const next = steps.next(outputElement.lastPromiseValue);\n",
              "  return Promise.resolve(next.value.promise).then((value) => {\n",
              "    // Cache the last promise value to make it available to the next\n",
              "    // step of the generator.\n",
              "    outputElement.lastPromiseValue = value;\n",
              "    return next.value.response;\n",
              "  });\n",
              "}\n",
              "\n",
              "/**\n",
              " * Generator function which is called between each async step of the upload\n",
              " * process.\n",
              " * @param {string} inputId Element ID of the input file picker element.\n",
              " * @param {string} outputId Element ID of the output display.\n",
              " * @return {!Iterable<!Object>} Iterable of next steps.\n",
              " */\n",
              "function* uploadFilesStep(inputId, outputId) {\n",
              "  const inputElement = document.getElementById(inputId);\n",
              "  inputElement.disabled = false;\n",
              "\n",
              "  const outputElement = document.getElementById(outputId);\n",
              "  outputElement.innerHTML = '';\n",
              "\n",
              "  const pickedPromise = new Promise((resolve) => {\n",
              "    inputElement.addEventListener('change', (e) => {\n",
              "      resolve(e.target.files);\n",
              "    });\n",
              "  });\n",
              "\n",
              "  const cancel = document.createElement('button');\n",
              "  inputElement.parentElement.appendChild(cancel);\n",
              "  cancel.textContent = 'Cancel upload';\n",
              "  const cancelPromise = new Promise((resolve) => {\n",
              "    cancel.onclick = () => {\n",
              "      resolve(null);\n",
              "    };\n",
              "  });\n",
              "\n",
              "  // Wait for the user to pick the files.\n",
              "  const files = yield {\n",
              "    promise: Promise.race([pickedPromise, cancelPromise]),\n",
              "    response: {\n",
              "      action: 'starting',\n",
              "    }\n",
              "  };\n",
              "\n",
              "  cancel.remove();\n",
              "\n",
              "  // Disable the input element since further picks are not allowed.\n",
              "  inputElement.disabled = true;\n",
              "\n",
              "  if (!files) {\n",
              "    return {\n",
              "      response: {\n",
              "        action: 'complete',\n",
              "      }\n",
              "    };\n",
              "  }\n",
              "\n",
              "  for (const file of files) {\n",
              "    const li = document.createElement('li');\n",
              "    li.append(span(file.name, {fontWeight: 'bold'}));\n",
              "    li.append(span(\n",
              "        `(${file.type || 'n/a'}) - ${file.size} bytes, ` +\n",
              "        `last modified: ${\n",
              "            file.lastModifiedDate ? file.lastModifiedDate.toLocaleDateString() :\n",
              "                                    'n/a'} - `));\n",
              "    const percent = span('0% done');\n",
              "    li.appendChild(percent);\n",
              "\n",
              "    outputElement.appendChild(li);\n",
              "\n",
              "    const fileDataPromise = new Promise((resolve) => {\n",
              "      const reader = new FileReader();\n",
              "      reader.onload = (e) => {\n",
              "        resolve(e.target.result);\n",
              "      };\n",
              "      reader.readAsArrayBuffer(file);\n",
              "    });\n",
              "    // Wait for the data to be ready.\n",
              "    let fileData = yield {\n",
              "      promise: fileDataPromise,\n",
              "      response: {\n",
              "        action: 'continue',\n",
              "      }\n",
              "    };\n",
              "\n",
              "    // Use a chunked sending to avoid message size limits. See b/62115660.\n",
              "    let position = 0;\n",
              "    do {\n",
              "      const length = Math.min(fileData.byteLength - position, MAX_PAYLOAD_SIZE);\n",
              "      const chunk = new Uint8Array(fileData, position, length);\n",
              "      position += length;\n",
              "\n",
              "      const base64 = btoa(String.fromCharCode.apply(null, chunk));\n",
              "      yield {\n",
              "        response: {\n",
              "          action: 'append',\n",
              "          file: file.name,\n",
              "          data: base64,\n",
              "        },\n",
              "      };\n",
              "\n",
              "      let percentDone = fileData.byteLength === 0 ?\n",
              "          100 :\n",
              "          Math.round((position / fileData.byteLength) * 100);\n",
              "      percent.textContent = `${percentDone}% done`;\n",
              "\n",
              "    } while (position < fileData.byteLength);\n",
              "  }\n",
              "\n",
              "  // All done.\n",
              "  yield {\n",
              "    response: {\n",
              "      action: 'complete',\n",
              "    }\n",
              "  };\n",
              "}\n",
              "\n",
              "scope.google = scope.google || {};\n",
              "scope.google.colab = scope.google.colab || {};\n",
              "scope.google.colab._files = {\n",
              "  _uploadFiles,\n",
              "  _uploadFilesContinue,\n",
              "};\n",
              "})(self);\n",
              "</script> "
            ]
          },
          "metadata": {}
        },
        {
          "output_type": "stream",
          "name": "stdout",
          "text": [
            "Saving Pokemon_894_12o.csv to Pokemon_894_12o.csv\n",
            "     Number     Name     Type1   Type2  HP  Attack  Defense  SpecialAtk  \\\n",
            "0         1     妙蛙種子     Grass  Poison  45      49       49          65   \n",
            "1         2      妙蛙草     Grass  Poison  60      62       63          80   \n",
            "2         3      妙蛙花     Grass  Poison  80      82       83         100   \n",
            "3         3  妙蛙花Mega     Grass  Poison  80     100      123         122   \n",
            "4         4      小火龍      Fire     NaN  39      52       43          60   \n",
            "..      ...      ...       ...     ...  ..     ...      ...         ...   \n",
            "889     803      毒貝比    Poison     NaN  67      73       67          73   \n",
            "890     804     四顎針龍    Poison  Dragon  73      73       73         127   \n",
            "891     805      壘磊石      Rock   Steel  61     131      211          53   \n",
            "892     806     砰頭小丑      Fire   Ghost  53     127       53         151   \n",
            "893     807     捷拉奧拉  Electric     NaN  88     112       75         102   \n",
            "\n",
            "     SpecialDef  Speed  Generation  Legendary  \n",
            "0            65     45           1      False  \n",
            "1            80     60           1      False  \n",
            "2           100     80           1      False  \n",
            "3           120     80           1      False  \n",
            "4            50     65           1      False  \n",
            "..          ...    ...         ...        ...  \n",
            "889          67     73           7      False  \n",
            "890          73    121           7      False  \n",
            "891         101     13           7      False  \n",
            "892          79    107           7      False  \n",
            "893          80    143           7      False  \n",
            "\n",
            "[894 rows x 12 columns]\n"
          ]
        }
      ]
    },
    {
      "cell_type": "markdown",
      "source": [
        "## **[2-1] 請自行完成基本/必要的資料內容和品質分析報告**"
      ],
      "metadata": {
        "id": "SXfqg5fFCl9j"
      }
    },
    {
      "cell_type": "code",
      "source": [
        "# 請於此處填入執行資料分析的程式碼"
      ],
      "metadata": {
        "id": "5FZdzANMDpzB"
      },
      "execution_count": null,
      "outputs": []
    },
    {
      "cell_type": "markdown",
      "source": [
        "**[A] 請在此說明你分析後的結果**\n"
      ],
      "metadata": {
        "id": "rbBdobDpIbME"
      }
    },
    {
      "cell_type": "markdown",
      "source": [],
      "metadata": {
        "id": "E_R-2wlCJzao"
      }
    },
    {
      "cell_type": "markdown",
      "metadata": {
        "id": "b-G0CIvf7Kni"
      },
      "source": [
        "<a id='sec2_2'></a>\n",
        "## **[2-2] 決策樹分類與迴歸決策樹**"
      ]
    },
    {
      "cell_type": "markdown",
      "source": [
        "以下是以Scikit Learn提供之C&RT演算法所產生的分類決策樹，演算法的終止條件是由決策樹的層數來控制。請執行並做必要調整來決定你的分類決策樹(答案)。也非常鼓勵你改寫程式內容！"
      ],
      "metadata": {
        "id": "dH3Kz0P3Jxla"
      }
    },
    {
      "cell_type": "code",
      "execution_count": 5,
      "metadata": {
        "id": "cDvaxhD_7Knj",
        "colab": {
          "base_uri": "https://localhost:8080/"
        },
        "outputId": "1a43fbe8-1f72-4dad-e3a3-5403513544e4"
      },
      "outputs": [
        {
          "output_type": "stream",
          "name": "stdout",
          "text": [
            "              precision    recall  f1-score   support\n",
            "\n",
            "           0       0.46      0.64      0.54        95\n",
            "           1       0.63      0.44      0.52       129\n",
            "\n",
            "    accuracy                           0.53       224\n",
            "   macro avg       0.54      0.54      0.53       224\n",
            "weighted avg       0.56      0.53      0.53       224\n",
            "\n"
          ]
        }
      ],
      "source": [
        "# 載入C&RT套件和資料集分割套件\n",
        "from sklearn.model_selection import train_test_split\n",
        "from sklearn.tree import DecisionTreeClassifier\n",
        "\n",
        "# 設定寶可夢 Type2欄位的「有值」或「無值」為分類的兩種類別(1, 0) 並以HP~Speed等6個欄位為特徵\n",
        "df['hasType2'] = df['Type2'].notnull().astype(int) \n",
        "X, y = df.loc[:, 'HP':'Speed'], df['hasType2']\n",
        "X_train, X_test, y_train, y_test = train_test_split(X, y, random_state=0) #分割資料集\n",
        "\n",
        "# 建立C&RT決策樹分類器\n",
        "clf = DecisionTreeClassifier(max_depth=4) # max_depth為決策樹的層數\n",
        "clf.fit(X_train, y_train)\n",
        "\n",
        "from sklearn.metrics import classification_report\n",
        "# 產生分類效能評估報告\n",
        "y_pred = clf.predict(X_test)\n",
        "print(classification_report(y_test, y_pred))"
      ]
    },
    {
      "cell_type": "markdown",
      "source": [
        "以上決策樹表的分類表現如何請說明？\n",
        "以上決策樹的層數被控制在4層，請嘗試將決策樹的最大層數改為「3層」和「5層」，並比較三者的分類表現。"
      ],
      "metadata": {
        "id": "VW3XBc-7KqL1"
      }
    },
    {
      "cell_type": "markdown",
      "source": [
        "[***你的回答***] *請把你的回答寫在這個文字區塊*\n"
      ],
      "metadata": {
        "id": "_mwFVnoTMZpG"
      }
    },
    {
      "cell_type": "code",
      "execution_count": 6,
      "metadata": {
        "id": "LgVs5kOw7Knk",
        "colab": {
          "base_uri": "https://localhost:8080/",
          "height": 517
        },
        "outputId": "e88b956c-657d-4867-f4f6-bca2af7b4fcb"
      },
      "outputs": [
        {
          "output_type": "display_data",
          "data": {
            "text/plain": [
              "<Figure size 800x600 with 1 Axes>"
            ],
            "image/png": "[encoded data removed]"
          },
          "metadata": {}
        }
      ],
      "source": [
        "# 畫出你的決策樹(產生圖檔)\n",
        "import matplotlib.pyplot as plt\n",
        "plt.style.use('classic')\n",
        "from sklearn.tree import plot_tree\n",
        "\n",
        "plt.figure(dpi=100)\n",
        "plot_tree(clf, filled=True);"
      ]
    },
    {
      "cell_type": "markdown",
      "source": [
        "請在本文字區塊說明你的決策樹(可產生有怎樣的決策規則?)"
      ],
      "metadata": {
        "id": "nNof7ReENEYl"
      }
    },
    {
      "cell_type": "markdown",
      "metadata": {
        "id": "NBKGfYRM7Knr"
      },
      "source": [
        "## **[2-3] K最近鄰 (KNN)**"
      ]
    },
    {
      "cell_type": "markdown",
      "source": [
        "以下是以Scikit Learn提供之KNN演算法的簡要設定所產生的分類器請做必要調整(也非常鼓勵你改寫程式內容+精進分類效果)，並執行你的KNN分類器。"
      ],
      "metadata": {
        "id": "kOU7CsvWNvX-"
      }
    },
    {
      "cell_type": "code",
      "execution_count": 7,
      "metadata": {
        "id": "ZyCH8I0m7Knr"
      },
      "outputs": [],
      "source": [
        "from sklearn.preprocessing import StandardScaler\n",
        "from sklearn.neighbors import NearestNeighbors\n",
        "\n",
        "# 特徵標準化\n",
        "scale = StandardScaler().fit(X_train)\n",
        "X_train_std = scale.transform(X_train)\n",
        "# 建立最近鄰模型\n",
        "neighbors = NearestNeighbors(n_neighbors=3).fit(X_train_std)\n",
        "\n",
        "# 未知寶可夢的屬性\n",
        "new_poke = [[120, 80, 80, 100, 150, 70]]\n"
      ]
    },
    {
      "cell_type": "markdown",
      "source": [
        "請將「未知寶可夢的屬性」(new_poke)的輸入方法改為手動(自行輸入6項能力值)"
      ],
      "metadata": {
        "id": "NsHOTqRTPXCV"
      }
    },
    {
      "cell_type": "code",
      "execution_count": 8,
      "metadata": {
        "id": "EyB6RjI67Knr",
        "colab": {
          "base_uri": "https://localhost:8080/"
        },
        "outputId": "447d704c-2d11-4e37-9a24-0626fa75c2c0"
      },
      "outputs": [
        {
          "output_type": "stream",
          "name": "stdout",
          "text": [
            "[1]\n",
            "[[0.4 0.6]]\n"
          ]
        }
      ],
      "source": [
        "from sklearn.neighbors import KNeighborsClassifier\n",
        "\n",
        "# 建立 KNN 分類器，預設 k=5\n",
        "knn = KNeighborsClassifier(n_jobs=-1)\n",
        "knn.fit(X_train_std, y_train)\n",
        "# 輸出預測結果\n",
        "print(knn.predict(new_poke))\n",
        "# 輸出預測結果的機率\n",
        "print(knn.predict_proba(new_poke))"
      ]
    },
    {
      "cell_type": "markdown",
      "source": [
        "請說明以上KNN分類器的執行過程為何？ 以上分類器的k值設定為預設值5，請嘗試將k值改為「6層」和「7層」，並比較三者分類結果的差異。"
      ],
      "metadata": {
        "id": "-xtavr2ePC1m"
      }
    },
    {
      "cell_type": "markdown",
      "source": [
        "[***你的回答***] *請把你的回答寫在這個文字區塊*"
      ],
      "metadata": {
        "id": "0IV-9fm8RdZv"
      }
    },
    {
      "cell_type": "code",
      "execution_count": null,
      "metadata": {
        "id": "UTzMhEY67Kns"
      },
      "outputs": [],
      "source": []
    }
  ],
  "metadata": {
    "kernelspec": {
      "display_name": "Python 3",
      "language": "python",
      "name": "python3"
    },
    "language_info": {
      "codemirror_mode": {
        "name": "ipython",
        "version": 3
      },
      "file_extension": ".py",
      "mimetype": "text/x-python",
      "name": "python",
      "nbconvert_exporter": "python",
      "pygments_lexer": "ipython3",
      "version": "3.7.6"
    },
    "colab": {
      "provenance": [],
      "include_colab_link": true
    }
  },
  "nbformat": 4,
  "nbformat_minor": 0
}